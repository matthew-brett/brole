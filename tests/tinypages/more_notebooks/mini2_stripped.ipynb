{
 "metadata": {
  "name": "",
  "signature": "sha256:5ea423b1552d7dfcd48c0ba1fa870bdb20c5803fd13cae77153029ab4c37f340"
 },
 "nbformat": 3,
 "nbformat_minor": 0,
 "worksheets": [
  {
   "cells": [
    {
     "cell_type": "heading",
     "level": 2,
     "metadata": {},
     "source": [
      "A heading"
     ]
    },
    {
     "cell_type": "markdown",
     "metadata": {},
     "source": [
      "Some text with $\\textbf{math} = 1$"
     ]
    },
    {
     "cell_type": "code",
     "collapsed": false,
     "input": [
      "print(2)"
     ],
     "language": "python",
     "metadata": {},
     "outputs": []
    }
   ],
   "metadata": {}
  }
 ]
}