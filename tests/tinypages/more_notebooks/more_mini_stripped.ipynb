{
 "metadata": {
  "name": "",
  "signature": "sha256:b0249a14c73f2fe78ee857dee48a113cd2cc1b231b430d383bb6adea505366bb"
 },
 "nbformat": 3,
 "nbformat_minor": 0,
 "worksheets": [
  {
   "cells": [
    {
     "cell_type": "heading",
     "level": 2,
     "metadata": {},
     "source": [
      "Another heading"
     ]
    },
    {
     "cell_type": "markdown",
     "metadata": {},
     "source": [
      "Some different text with $\\sum = 1$"
     ]
    },
    {
     "cell_type": "code",
     "collapsed": false,
     "input": [
      "print(\"my text \" + \"extended\")"
     ],
     "language": "python",
     "metadata": {},
     "outputs": []
    }
   ],
   "metadata": {}
  }
 ]
}