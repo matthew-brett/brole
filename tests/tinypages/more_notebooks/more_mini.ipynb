{
 "metadata": {
  "name": "",
  "signature": "sha256:0adf75153e1d7f36b1f9ee99905c6561ab6a23bb8d471ffadcfe374a7c075bea"
 },
 "nbformat": 3,
 "nbformat_minor": 0,
 "worksheets": [
  {
   "cells": [
    {
     "cell_type": "heading",
     "level": 2,
     "metadata": {},
     "source": [
      "Another heading"
     ]
    },
    {
     "cell_type": "markdown",
     "metadata": {},
     "source": [
      "Some different text with $\\sum = 1$"
     ]
    },
    {
     "cell_type": "code",
     "collapsed": false,
     "input": [
      "print(\"my text \" + \"extended\")"
     ],
     "language": "python",
     "metadata": {},
     "outputs": [
      {
       "output_type": "stream",
       "stream": "stdout",
       "text": [
        "my text extended\n"
       ]
      }
     ],
     "prompt_number": 1
    }
   ],
   "metadata": {}
  }
 ]
}